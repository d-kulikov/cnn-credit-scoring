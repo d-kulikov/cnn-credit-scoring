{
 "cells": [
  {
   "cell_type": "markdown",
   "metadata": {},
   "source": [
    "#### Setup"
   ]
  },
  {
   "cell_type": "code",
   "execution_count": 1,
   "metadata": {},
   "outputs": [
    {
     "name": "stderr",
     "output_type": "stream",
     "text": [
      "Using TensorFlow backend.\n"
     ]
    }
   ],
   "source": [
    "import numpy as np\n",
    "import pandas as pd\n",
    "import pickle\n",
    "pd.set_option( 'display.max_columns', 100 )\n",
    "pd.set_option( 'display.width', 200 )\n",
    "from keras.models import Sequential\n",
    "from keras.layers import Dense, Conv2D, Flatten, AveragePooling2D\n",
    "from keras.callbacks import EarlyStopping"
   ]
  },
  {
   "cell_type": "markdown",
   "metadata": {},
   "source": [
    "#### Loans Dataset"
   ]
  },
  {
   "cell_type": "code",
   "execution_count": 2,
   "metadata": {},
   "outputs": [],
   "source": [
    "l = pd.read_csv( 'loans.csv', parse_dates=[ 'application_date' ] )"
   ]
  },
  {
   "cell_type": "code",
   "execution_count": 3,
   "metadata": {},
   "outputs": [
    {
     "name": "stdout",
     "output_type": "stream",
     "text": [
      "<class 'pandas.core.frame.DataFrame'>\n",
      "RangeIndex: 27039 entries, 0 to 27038\n",
      "Data columns (total 4 columns):\n",
      " #   Column            Non-Null Count  Dtype         \n",
      "---  ------            --------------  -----         \n",
      " 0   application_id    27039 non-null  int64         \n",
      " 1   application_date  27039 non-null  datetime64[ns]\n",
      " 2   delay             27039 non-null  int64         \n",
      " 3   bureau_score      27039 non-null  int64         \n",
      "dtypes: datetime64[ns](1), int64(3)\n",
      "memory usage: 845.1 KB\n"
     ]
    }
   ],
   "source": [
    "l.info()"
   ]
  },
  {
   "cell_type": "code",
   "execution_count": 4,
   "metadata": {},
   "outputs": [
    {
     "data": {
      "text/html": [
       "<div>\n",
       "<style scoped>\n",
       "    .dataframe tbody tr th:only-of-type {\n",
       "        vertical-align: middle;\n",
       "    }\n",
       "\n",
       "    .dataframe tbody tr th {\n",
       "        vertical-align: top;\n",
       "    }\n",
       "\n",
       "    .dataframe thead th {\n",
       "        text-align: right;\n",
       "    }\n",
       "</style>\n",
       "<table border=\"1\" class=\"dataframe\">\n",
       "  <thead>\n",
       "    <tr style=\"text-align: right;\">\n",
       "      <th></th>\n",
       "      <th>application_id</th>\n",
       "      <th>application_date</th>\n",
       "      <th>delay</th>\n",
       "      <th>bureau_score</th>\n",
       "    </tr>\n",
       "  </thead>\n",
       "  <tbody>\n",
       "    <tr>\n",
       "      <th>0</th>\n",
       "      <td>8808458</td>\n",
       "      <td>2020-02-10</td>\n",
       "      <td>-12</td>\n",
       "      <td>619</td>\n",
       "    </tr>\n",
       "    <tr>\n",
       "      <th>1</th>\n",
       "      <td>9399550</td>\n",
       "      <td>2020-05-03</td>\n",
       "      <td>0</td>\n",
       "      <td>507</td>\n",
       "    </tr>\n",
       "    <tr>\n",
       "      <th>2</th>\n",
       "      <td>8931336</td>\n",
       "      <td>2020-02-25</td>\n",
       "      <td>-1</td>\n",
       "      <td>433</td>\n",
       "    </tr>\n",
       "    <tr>\n",
       "      <th>3</th>\n",
       "      <td>8898960</td>\n",
       "      <td>2020-02-21</td>\n",
       "      <td>2</td>\n",
       "      <td>560</td>\n",
       "    </tr>\n",
       "    <tr>\n",
       "      <th>4</th>\n",
       "      <td>9321464</td>\n",
       "      <td>2020-04-15</td>\n",
       "      <td>-3</td>\n",
       "      <td>423</td>\n",
       "    </tr>\n",
       "  </tbody>\n",
       "</table>\n",
       "</div>"
      ],
      "text/plain": [
       "   application_id application_date  delay  bureau_score\n",
       "0         8808458       2020-02-10    -12           619\n",
       "1         9399550       2020-05-03      0           507\n",
       "2         8931336       2020-02-25     -1           433\n",
       "3         8898960       2020-02-21      2           560\n",
       "4         9321464       2020-04-15     -3           423"
      ]
     },
     "execution_count": 4,
     "metadata": {},
     "output_type": "execute_result"
    }
   ],
   "source": [
    "l.head()"
   ]
  },
  {
   "cell_type": "markdown",
   "metadata": {},
   "source": [
    "\"application_id\": unique identificator of a loan <br>\n",
    "\"application_date: date of an application for a loan <br>\n",
    "\"delay\": number of days past due (0 - repaid at due date, positive values - overdue, negative values - early repayment) <br>\n",
    "\"bureau_score\": credit score reported from the bureau at the moment of an application (it is not used in training the model and will serve as a benchmark)"
   ]
  },
  {
   "cell_type": "markdown",
   "metadata": {},
   "source": [
    "#### Target Variable"
   ]
  },
  {
   "cell_type": "code",
   "execution_count": 5,
   "metadata": {},
   "outputs": [
    {
     "data": {
      "text/plain": [
       "count    27039.000000\n",
       "mean        20.920596\n",
       "std         58.360589\n",
       "min        -29.000000\n",
       "25%         -5.000000\n",
       "50%         -1.000000\n",
       "75%          2.000000\n",
       "max        226.000000\n",
       "Name: delay, dtype: float64"
      ]
     },
     "execution_count": 5,
     "metadata": {},
     "output_type": "execute_result"
    }
   ],
   "source": [
    "l.delay.describe()"
   ]
  },
  {
   "cell_type": "markdown",
   "metadata": {},
   "source": [
    "In order to treat different vintages equally, \"delay\" needs to be limited by the range [0,91]:"
   ]
  },
  {
   "cell_type": "code",
   "execution_count": 6,
   "metadata": {},
   "outputs": [],
   "source": [
    "l.loc[ l.delay < 0, 'delay' ] = 0\n",
    "l.loc[ l.delay > 90, 'delay' ] = 91"
   ]
  },
  {
   "cell_type": "code",
   "execution_count": 7,
   "metadata": {
    "scrolled": true
   },
   "outputs": [
    {
     "data": {
      "text/plain": [
       "<matplotlib.axes._subplots.AxesSubplot at 0x7f39b727bcd0>"
      ]
     },
     "execution_count": 7,
     "metadata": {},
     "output_type": "execute_result"
    },
    {
     "data": {
      "image/png": "[encoded data removed]",
      "text/plain": [
       "<Figure size 432x288 with 1 Axes>"
      ]
     },
     "metadata": {
      "needs_background": "light"
     },
     "output_type": "display_data"
    }
   ],
   "source": [
    "l.delay.plot( kind='hist', color='darkred', edgecolor='black', grid=True, title='Distribution of Delay' )"
   ]
  },
  {
   "cell_type": "markdown",
   "metadata": {},
   "source": [
    "There is little interest in distinguishing high delays (>30) accurately, so the model will predict logarithm of \"delay\" :"
   ]
  },
  {
   "cell_type": "code",
   "execution_count": 8,
   "metadata": {},
   "outputs": [
    {
     "data": {
      "text/plain": [
       "count    27039.000000\n",
       "mean         0.917328\n",
       "std          1.638542\n",
       "min          0.000000\n",
       "25%          0.000000\n",
       "50%          0.000000\n",
       "75%          1.098612\n",
       "max          4.521789\n",
       "Name: label, dtype: float64"
      ]
     },
     "execution_count": 8,
     "metadata": {},
     "output_type": "execute_result"
    }
   ],
   "source": [
    "l[ 'label' ] = np.log( l.delay + 1 )\n",
    "l.label.describe()"
   ]
  },
  {
   "cell_type": "markdown",
   "metadata": {},
   "source": [
    "#### Train/Test Split"
   ]
  },
  {
   "cell_type": "markdown",
   "metadata": {},
   "source": [
    "Let us create 4 folds for cross-validation. In this project they are randomly assigned."
   ]
  },
  {
   "cell_type": "code",
   "execution_count": 9,
   "metadata": {
    "scrolled": true
   },
   "outputs": [
    {
     "data": {
      "text/html": [
       "<div>\n",
       "<style scoped>\n",
       "    .dataframe tbody tr th:only-of-type {\n",
       "        vertical-align: middle;\n",
       "    }\n",
       "\n",
       "    .dataframe tbody tr th {\n",
       "        vertical-align: top;\n",
       "    }\n",
       "\n",
       "    .dataframe thead th {\n",
       "        text-align: right;\n",
       "    }\n",
       "</style>\n",
       "<table border=\"1\" class=\"dataframe\">\n",
       "  <thead>\n",
       "    <tr style=\"text-align: right;\">\n",
       "      <th></th>\n",
       "      <th>application_id</th>\n",
       "      <th>label</th>\n",
       "    </tr>\n",
       "    <tr>\n",
       "      <th>fold</th>\n",
       "      <th></th>\n",
       "      <th></th>\n",
       "    </tr>\n",
       "  </thead>\n",
       "  <tbody>\n",
       "    <tr>\n",
       "      <th>1</th>\n",
       "      <td>6739</td>\n",
       "      <td>0.916738</td>\n",
       "    </tr>\n",
       "    <tr>\n",
       "      <th>2</th>\n",
       "      <td>6796</td>\n",
       "      <td>0.911548</td>\n",
       "    </tr>\n",
       "    <tr>\n",
       "      <th>3</th>\n",
       "      <td>6726</td>\n",
       "      <td>0.936003</td>\n",
       "    </tr>\n",
       "    <tr>\n",
       "      <th>4</th>\n",
       "      <td>6778</td>\n",
       "      <td>0.905180</td>\n",
       "    </tr>\n",
       "  </tbody>\n",
       "</table>\n",
       "</div>"
      ],
      "text/plain": [
       "      application_id     label\n",
       "fold                          \n",
       "1               6739  0.916738\n",
       "2               6796  0.911548\n",
       "3               6726  0.936003\n",
       "4               6778  0.905180"
      ]
     },
     "execution_count": 9,
     "metadata": {},
     "output_type": "execute_result"
    }
   ],
   "source": [
    "np.random.seed( 0 )\n",
    "l[ 'fold' ] = np.random.randint( 1, 5, size=l.shape[ 0 ] )\n",
    "l.groupby( 'fold' ).agg({ 'application_id':'count', 'label':'mean' })"
   ]
  },
  {
   "cell_type": "markdown",
   "metadata": {},
   "source": [
    "#### Credit History Dataset"
   ]
  },
  {
   "cell_type": "code",
   "execution_count": 10,
   "metadata": {},
   "outputs": [],
   "source": [
    "c = pd.read_csv( 'bureau_data.csv', parse_dates=[ 'application_date', 'cred_date', 'cred_enddate', \n",
    "                                                 'cred_enddate_fact', 'cred_active_date', 'cred_update' ] )"
   ]
  },
  {
   "cell_type": "markdown",
   "metadata": {},
   "source": [
    "This dataset contains information which is received from a credit history bureau at the moment of application for a new loan. In this project this information will be used to predict a customers's performance on the issued loan."
   ]
  },
  {
   "cell_type": "code",
   "execution_count": 11,
   "metadata": {},
   "outputs": [
    {
     "name": "stdout",
     "output_type": "stream",
     "text": [
      "<class 'pandas.core.frame.DataFrame'>\n",
      "RangeIndex: 546584 entries, 0 to 546583\n",
      "Data columns (total 23 columns):\n",
      " #   Column             Non-Null Count   Dtype         \n",
      "---  ------             --------------   -----         \n",
      " 0   application_id     546584 non-null  int64         \n",
      " 1   application_date   546584 non-null  datetime64[ns]\n",
      " 2   cred_type          546584 non-null  int64         \n",
      " 3   cred_sum           546584 non-null  float64       \n",
      " 4   cred_active        546584 non-null  int64         \n",
      " 5   delay5             546584 non-null  int64         \n",
      " 6   delay30            546584 non-null  int64         \n",
      " 7   delay60            546584 non-null  int64         \n",
      " 8   delay90            546584 non-null  int64         \n",
      " 9   delay_more         546584 non-null  int64         \n",
      " 10  cred_date          546584 non-null  datetime64[ns]\n",
      " 11  cred_enddate       526350 non-null  datetime64[ns]\n",
      " 12  cred_enddate_fact  406919 non-null  datetime64[ns]\n",
      " 13  cred_sum_debt      546510 non-null  float64       \n",
      " 14  cred_max_overdue   546584 non-null  float64       \n",
      " 15  cred_sum_overdue   546584 non-null  float64       \n",
      " 16  cred_day_overdue   546584 non-null  int64         \n",
      " 17  cred_prolong       546584 non-null  int64         \n",
      " 18  cred_active_date   546584 non-null  datetime64[ns]\n",
      " 19  cred_update        546584 non-null  datetime64[ns]\n",
      " 20  cred_partner_type  546584 non-null  int64         \n",
      " 21  cred_collateral    546584 non-null  int64         \n",
      " 22  payment_pattern    546584 non-null  object        \n",
      "dtypes: datetime64[ns](6), float64(4), int64(12), object(1)\n",
      "memory usage: 95.9+ MB\n"
     ]
    }
   ],
   "source": [
    "c.info()"
   ]
  },
  {
   "cell_type": "markdown",
   "metadata": {},
   "source": [
    "    Meaning of fields:\n",
    "\"application_id\": unique identificator of a loan <br>\n",
    "\"application_date: date of an application for a loan <br>\n",
    "\"cred_type\": type of a loan <br>\n",
    "\"cred_sum\": amount of a loan <br>\n",
    "\"cred_active\": status of a loan <br>\n",
    "\"delay5\": number of delays up to 5 days <br>\n",
    "\"delay30\": number of delays up to 30 days <br>\n",
    "\"delay60\": number of delays up to 60 days <br>\n",
    "\"delay90\": number of delays up to 90 days <br>\n",
    "\"delay_more\": number of delays more than 90 days <br> \n",
    "\"cred_date\": date of a loan <br>\n",
    "\"cred_enddate\": due date of a loan <br>\n",
    "\"cred_enddate_fact\": date when a loan was completed <br>\n",
    "\"cred_sum_debt\": current debt on a loan <br>\n",
    "\"cred_max_overdue\": maximum delay on a loan <br>\n",
    "\"cred_sum_overdue\": current outstanding amount <br>\n",
    "\"cred_day_overdue\": duration of current delay <br>\n",
    "\"cred_prolong\": whether a loan was extended <br>\n",
    "\"cred_active_date\": date of the last status change <br>\n",
    "\"cred_update\": date of the last update on a loan <br>\n",
    "\"cred_partner_type\": type of company issued a loan <br>\n",
    "\"cred_collateral\": whether a loan is secured with a collateral <br>\n",
    "\"payment_pattern\": payment behaviour on a loan by months"
   ]
  },
  {
   "cell_type": "markdown",
   "metadata": {},
   "source": [
    "So, each application from the loans dataset (\"l\") corresponds to multiple records in the credit history dataset (\"c\"). An example of records corresponding to a particular application:"
   ]
  },
  {
   "cell_type": "code",
   "execution_count": 12,
   "metadata": {},
   "outputs": [
    {
     "data": {
      "text/html": [
       "<div>\n",
       "<style scoped>\n",
       "    .dataframe tbody tr th:only-of-type {\n",
       "        vertical-align: middle;\n",
       "    }\n",
       "\n",
       "    .dataframe tbody tr th {\n",
       "        vertical-align: top;\n",
       "    }\n",
       "\n",
       "    .dataframe thead th {\n",
       "        text-align: right;\n",
       "    }\n",
       "</style>\n",
       "<table border=\"1\" class=\"dataframe\">\n",
       "  <thead>\n",
       "    <tr style=\"text-align: right;\">\n",
       "      <th></th>\n",
       "      <th>application_id</th>\n",
       "      <th>application_date</th>\n",
       "      <th>cred_type</th>\n",
       "      <th>cred_sum</th>\n",
       "      <th>cred_active</th>\n",
       "      <th>delay5</th>\n",
       "      <th>delay30</th>\n",
       "      <th>delay60</th>\n",
       "      <th>delay90</th>\n",
       "      <th>delay_more</th>\n",
       "      <th>cred_date</th>\n",
       "      <th>cred_enddate</th>\n",
       "      <th>cred_enddate_fact</th>\n",
       "      <th>cred_sum_debt</th>\n",
       "      <th>cred_max_overdue</th>\n",
       "      <th>cred_sum_overdue</th>\n",
       "      <th>cred_day_overdue</th>\n",
       "      <th>cred_prolong</th>\n",
       "      <th>cred_active_date</th>\n",
       "      <th>cred_update</th>\n",
       "      <th>cred_partner_type</th>\n",
       "      <th>cred_collateral</th>\n",
       "      <th>payment_pattern</th>\n",
       "    </tr>\n",
       "  </thead>\n",
       "  <tbody>\n",
       "    <tr>\n",
       "      <th>49</th>\n",
       "      <td>9321464</td>\n",
       "      <td>2020-04-15</td>\n",
       "      <td>5</td>\n",
       "      <td>5889.57</td>\n",
       "      <td>1</td>\n",
       "      <td>1</td>\n",
       "      <td>1</td>\n",
       "      <td>0</td>\n",
       "      <td>0</td>\n",
       "      <td>0</td>\n",
       "      <td>2019-11-18</td>\n",
       "      <td>2020-08-23</td>\n",
       "      <td>NaT</td>\n",
       "      <td>2972.17</td>\n",
       "      <td>537.67</td>\n",
       "      <td>0.0</td>\n",
       "      <td>0</td>\n",
       "      <td>0</td>\n",
       "      <td>2020-03-25</td>\n",
       "      <td>2020-03-25</td>\n",
       "      <td>1</td>\n",
       "      <td>0</td>\n",
       "      <td>-02210</td>\n",
       "    </tr>\n",
       "    <tr>\n",
       "      <th>50</th>\n",
       "      <td>9321464</td>\n",
       "      <td>2020-04-15</td>\n",
       "      <td>5</td>\n",
       "      <td>10170.97</td>\n",
       "      <td>0</td>\n",
       "      <td>0</td>\n",
       "      <td>2</td>\n",
       "      <td>0</td>\n",
       "      <td>0</td>\n",
       "      <td>0</td>\n",
       "      <td>2018-03-20</td>\n",
       "      <td>2018-09-25</td>\n",
       "      <td>2018-10-02</td>\n",
       "      <td>0.00</td>\n",
       "      <td>1824.22</td>\n",
       "      <td>0.0</td>\n",
       "      <td>0</td>\n",
       "      <td>0</td>\n",
       "      <td>2018-10-02</td>\n",
       "      <td>2018-10-02</td>\n",
       "      <td>1</td>\n",
       "      <td>0</td>\n",
       "      <td>CCCCCCCCCCCCCCCCCC2120000-</td>\n",
       "    </tr>\n",
       "    <tr>\n",
       "      <th>51</th>\n",
       "      <td>9321464</td>\n",
       "      <td>2020-04-15</td>\n",
       "      <td>5</td>\n",
       "      <td>11599.00</td>\n",
       "      <td>0</td>\n",
       "      <td>1</td>\n",
       "      <td>1</td>\n",
       "      <td>0</td>\n",
       "      <td>0</td>\n",
       "      <td>0</td>\n",
       "      <td>2019-10-09</td>\n",
       "      <td>2020-04-09</td>\n",
       "      <td>2020-04-09</td>\n",
       "      <td>0.00</td>\n",
       "      <td>1957.48</td>\n",
       "      <td>0.0</td>\n",
       "      <td>0</td>\n",
       "      <td>0</td>\n",
       "      <td>2020-04-09</td>\n",
       "      <td>2020-04-09</td>\n",
       "      <td>1</td>\n",
       "      <td>0</td>\n",
       "      <td>C010020</td>\n",
       "    </tr>\n",
       "    <tr>\n",
       "      <th>52</th>\n",
       "      <td>9321464</td>\n",
       "      <td>2020-04-15</td>\n",
       "      <td>5</td>\n",
       "      <td>8119.00</td>\n",
       "      <td>0</td>\n",
       "      <td>0</td>\n",
       "      <td>0</td>\n",
       "      <td>0</td>\n",
       "      <td>0</td>\n",
       "      <td>0</td>\n",
       "      <td>2018-07-30</td>\n",
       "      <td>2019-02-01</td>\n",
       "      <td>2019-02-01</td>\n",
       "      <td>0.00</td>\n",
       "      <td>0.00</td>\n",
       "      <td>0.0</td>\n",
       "      <td>0</td>\n",
       "      <td>0</td>\n",
       "      <td>2019-02-01</td>\n",
       "      <td>2019-02-01</td>\n",
       "      <td>1</td>\n",
       "      <td>0</td>\n",
       "      <td>CCCCCCCCCCCCCCC000000-</td>\n",
       "    </tr>\n",
       "    <tr>\n",
       "      <th>53</th>\n",
       "      <td>9321464</td>\n",
       "      <td>2020-04-15</td>\n",
       "      <td>5</td>\n",
       "      <td>9587.90</td>\n",
       "      <td>0</td>\n",
       "      <td>1</td>\n",
       "      <td>0</td>\n",
       "      <td>0</td>\n",
       "      <td>0</td>\n",
       "      <td>0</td>\n",
       "      <td>2019-01-17</td>\n",
       "      <td>2019-11-18</td>\n",
       "      <td>2019-09-17</td>\n",
       "      <td>0.00</td>\n",
       "      <td>972.75</td>\n",
       "      <td>0.0</td>\n",
       "      <td>0</td>\n",
       "      <td>0</td>\n",
       "      <td>2019-09-17</td>\n",
       "      <td>2019-09-17</td>\n",
       "      <td>1</td>\n",
       "      <td>0</td>\n",
       "      <td>CCCCCCCC10000000</td>\n",
       "    </tr>\n",
       "    <tr>\n",
       "      <th>54</th>\n",
       "      <td>9321464</td>\n",
       "      <td>2020-04-15</td>\n",
       "      <td>4</td>\n",
       "      <td>5000.00</td>\n",
       "      <td>0</td>\n",
       "      <td>1</td>\n",
       "      <td>0</td>\n",
       "      <td>0</td>\n",
       "      <td>0</td>\n",
       "      <td>0</td>\n",
       "      <td>2018-12-27</td>\n",
       "      <td>2019-09-15</td>\n",
       "      <td>2019-09-15</td>\n",
       "      <td>0.00</td>\n",
       "      <td>600.00</td>\n",
       "      <td>0.0</td>\n",
       "      <td>0</td>\n",
       "      <td>0</td>\n",
       "      <td>2019-09-15</td>\n",
       "      <td>2019-09-15</td>\n",
       "      <td>1</td>\n",
       "      <td>0</td>\n",
       "      <td>CCCCCCCC000010000</td>\n",
       "    </tr>\n",
       "    <tr>\n",
       "      <th>55</th>\n",
       "      <td>9321464</td>\n",
       "      <td>2020-04-15</td>\n",
       "      <td>5</td>\n",
       "      <td>15510.28</td>\n",
       "      <td>1</td>\n",
       "      <td>0</td>\n",
       "      <td>0</td>\n",
       "      <td>0</td>\n",
       "      <td>0</td>\n",
       "      <td>0</td>\n",
       "      <td>2019-06-06</td>\n",
       "      <td>2020-06-08</td>\n",
       "      <td>NaT</td>\n",
       "      <td>2713.52</td>\n",
       "      <td>0.00</td>\n",
       "      <td>0.0</td>\n",
       "      <td>0</td>\n",
       "      <td>0</td>\n",
       "      <td>2019-06-06</td>\n",
       "      <td>2020-04-06</td>\n",
       "      <td>1</td>\n",
       "      <td>0</td>\n",
       "      <td>00000000000</td>\n",
       "    </tr>\n",
       "  </tbody>\n",
       "</table>\n",
       "</div>"
      ],
      "text/plain": [
       "    application_id application_date  cred_type  cred_sum  cred_active  delay5  delay30  delay60  delay90  delay_more  cred_date cred_enddate cred_enddate_fact  cred_sum_debt  cred_max_overdue  \\\n",
       "49         9321464       2020-04-15          5   5889.57            1       1        1        0        0           0 2019-11-18   2020-08-23               NaT        2972.17            537.67   \n",
       "50         9321464       2020-04-15          5  10170.97            0       0        2        0        0           0 2018-03-20   2018-09-25        2018-10-02           0.00           1824.22   \n",
       "51         9321464       2020-04-15          5  11599.00            0       1        1        0        0           0 2019-10-09   2020-04-09        2020-04-09           0.00           1957.48   \n",
       "52         9321464       2020-04-15          5   8119.00            0       0        0        0        0           0 2018-07-30   2019-02-01        2019-02-01           0.00              0.00   \n",
       "53         9321464       2020-04-15          5   9587.90            0       1        0        0        0           0 2019-01-17   2019-11-18        2019-09-17           0.00            972.75   \n",
       "54         9321464       2020-04-15          4   5000.00            0       1        0        0        0           0 2018-12-27   2019-09-15        2019-09-15           0.00            600.00   \n",
       "55         9321464       2020-04-15          5  15510.28            1       0        0        0        0           0 2019-06-06   2020-06-08               NaT        2713.52              0.00   \n",
       "\n",
       "    cred_sum_overdue  cred_day_overdue  cred_prolong cred_active_date cred_update  cred_partner_type  cred_collateral             payment_pattern  \n",
       "49               0.0                 0             0       2020-03-25  2020-03-25                  1                0                      -02210  \n",
       "50               0.0                 0             0       2018-10-02  2018-10-02                  1                0  CCCCCCCCCCCCCCCCCC2120000-  \n",
       "51               0.0                 0             0       2020-04-09  2020-04-09                  1                0                     C010020  \n",
       "52               0.0                 0             0       2019-02-01  2019-02-01                  1                0      CCCCCCCCCCCCCCC000000-  \n",
       "53               0.0                 0             0       2019-09-17  2019-09-17                  1                0            CCCCCCCC10000000  \n",
       "54               0.0                 0             0       2019-09-15  2019-09-15                  1                0           CCCCCCCC000010000  \n",
       "55               0.0                 0             0       2019-06-06  2020-04-06                  1                0                 00000000000  "
      ]
     },
     "execution_count": 12,
     "metadata": {},
     "output_type": "execute_result"
    }
   ],
   "source": [
    "c.loc[ c.application_id == 9321464 ]"
   ]
  },
  {
   "cell_type": "markdown",
   "metadata": {},
   "source": [
    "So this applicant has 7 records (loans) in his credit history."
   ]
  },
  {
   "cell_type": "markdown",
   "metadata": {},
   "source": [
    "The dataset needs to be sorted by \"application_id\" and in reverse chronological order (by the attribute \"cred_update\"):"
   ]
  },
  {
   "cell_type": "code",
   "execution_count": 13,
   "metadata": {},
   "outputs": [],
   "source": [
    "c.sort_values( by=[ 'application_id', 'cred_update', 'cred_active_date', 'cred_date' ], \n",
    "              ascending=[ True, False, False, False ], inplace=True )"
   ]
  },
  {
   "cell_type": "code",
   "execution_count": 14,
   "metadata": {
    "scrolled": false
   },
   "outputs": [
    {
     "data": {
      "text/html": [
       "<div>\n",
       "<style scoped>\n",
       "    .dataframe tbody tr th:only-of-type {\n",
       "        vertical-align: middle;\n",
       "    }\n",
       "\n",
       "    .dataframe tbody tr th {\n",
       "        vertical-align: top;\n",
       "    }\n",
       "\n",
       "    .dataframe thead th {\n",
       "        text-align: right;\n",
       "    }\n",
       "</style>\n",
       "<table border=\"1\" class=\"dataframe\">\n",
       "  <thead>\n",
       "    <tr style=\"text-align: right;\">\n",
       "      <th></th>\n",
       "      <th>application_id</th>\n",
       "      <th>application_date</th>\n",
       "      <th>cred_type</th>\n",
       "      <th>cred_sum</th>\n",
       "      <th>cred_active</th>\n",
       "      <th>delay5</th>\n",
       "      <th>delay30</th>\n",
       "      <th>delay60</th>\n",
       "      <th>delay90</th>\n",
       "      <th>delay_more</th>\n",
       "      <th>cred_date</th>\n",
       "      <th>cred_enddate</th>\n",
       "      <th>cred_enddate_fact</th>\n",
       "      <th>cred_sum_debt</th>\n",
       "      <th>cred_max_overdue</th>\n",
       "      <th>cred_sum_overdue</th>\n",
       "      <th>cred_day_overdue</th>\n",
       "      <th>cred_prolong</th>\n",
       "      <th>cred_active_date</th>\n",
       "      <th>cred_update</th>\n",
       "      <th>cred_partner_type</th>\n",
       "      <th>cred_collateral</th>\n",
       "      <th>payment_pattern</th>\n",
       "    </tr>\n",
       "  </thead>\n",
       "  <tbody>\n",
       "    <tr>\n",
       "      <th>69263</th>\n",
       "      <td>9697473</td>\n",
       "      <td>2020-07-24</td>\n",
       "      <td>19</td>\n",
       "      <td>1000.0</td>\n",
       "      <td>0</td>\n",
       "      <td>0</td>\n",
       "      <td>0</td>\n",
       "      <td>0</td>\n",
       "      <td>0</td>\n",
       "      <td>0</td>\n",
       "      <td>2019-09-01</td>\n",
       "      <td>2019-09-13</td>\n",
       "      <td>2019-09-10</td>\n",
       "      <td>0.00</td>\n",
       "      <td>0.0</td>\n",
       "      <td>0.0</td>\n",
       "      <td>0</td>\n",
       "      <td>0</td>\n",
       "      <td>2019-09-10</td>\n",
       "      <td>2019-09-17</td>\n",
       "      <td>3</td>\n",
       "      <td>0</td>\n",
       "      <td>CCCCCCCCCCC</td>\n",
       "    </tr>\n",
       "    <tr>\n",
       "      <th>69266</th>\n",
       "      <td>9697473</td>\n",
       "      <td>2020-07-24</td>\n",
       "      <td>19</td>\n",
       "      <td>1100.0</td>\n",
       "      <td>0</td>\n",
       "      <td>0</td>\n",
       "      <td>0</td>\n",
       "      <td>0</td>\n",
       "      <td>0</td>\n",
       "      <td>0</td>\n",
       "      <td>2019-08-17</td>\n",
       "      <td>2019-08-28</td>\n",
       "      <td>2019-08-27</td>\n",
       "      <td>0.00</td>\n",
       "      <td>0.0</td>\n",
       "      <td>0.0</td>\n",
       "      <td>0</td>\n",
       "      <td>0</td>\n",
       "      <td>2019-08-27</td>\n",
       "      <td>2019-09-02</td>\n",
       "      <td>3</td>\n",
       "      <td>0</td>\n",
       "      <td>CCCCCCCCCCC-</td>\n",
       "    </tr>\n",
       "    <tr>\n",
       "      <th>377065</th>\n",
       "      <td>9698504</td>\n",
       "      <td>2020-07-24</td>\n",
       "      <td>5</td>\n",
       "      <td>4655.0</td>\n",
       "      <td>1</td>\n",
       "      <td>0</td>\n",
       "      <td>0</td>\n",
       "      <td>0</td>\n",
       "      <td>0</td>\n",
       "      <td>0</td>\n",
       "      <td>2020-06-12</td>\n",
       "      <td>2020-10-12</td>\n",
       "      <td>NaT</td>\n",
       "      <td>3627.26</td>\n",
       "      <td>0.0</td>\n",
       "      <td>0.0</td>\n",
       "      <td>0</td>\n",
       "      <td>0</td>\n",
       "      <td>2020-07-12</td>\n",
       "      <td>2020-07-12</td>\n",
       "      <td>3</td>\n",
       "      <td>0</td>\n",
       "      <td>00</td>\n",
       "    </tr>\n",
       "    <tr>\n",
       "      <th>377066</th>\n",
       "      <td>9698504</td>\n",
       "      <td>2020-07-24</td>\n",
       "      <td>5</td>\n",
       "      <td>4219.0</td>\n",
       "      <td>0</td>\n",
       "      <td>0</td>\n",
       "      <td>0</td>\n",
       "      <td>0</td>\n",
       "      <td>0</td>\n",
       "      <td>0</td>\n",
       "      <td>2019-09-05</td>\n",
       "      <td>2020-07-11</td>\n",
       "      <td>2020-07-11</td>\n",
       "      <td>0.00</td>\n",
       "      <td>0.0</td>\n",
       "      <td>0.0</td>\n",
       "      <td>0</td>\n",
       "      <td>1</td>\n",
       "      <td>2020-07-11</td>\n",
       "      <td>2020-07-12</td>\n",
       "      <td>3</td>\n",
       "      <td>0</td>\n",
       "      <td>C0000000000</td>\n",
       "    </tr>\n",
       "    <tr>\n",
       "      <th>377064</th>\n",
       "      <td>9698504</td>\n",
       "      <td>2020-07-24</td>\n",
       "      <td>4</td>\n",
       "      <td>15000.0</td>\n",
       "      <td>0</td>\n",
       "      <td>0</td>\n",
       "      <td>0</td>\n",
       "      <td>0</td>\n",
       "      <td>0</td>\n",
       "      <td>0</td>\n",
       "      <td>2019-04-17</td>\n",
       "      <td>2019-11-10</td>\n",
       "      <td>2019-11-10</td>\n",
       "      <td>0.00</td>\n",
       "      <td>0.0</td>\n",
       "      <td>0.0</td>\n",
       "      <td>0</td>\n",
       "      <td>0</td>\n",
       "      <td>2019-11-10</td>\n",
       "      <td>2019-11-10</td>\n",
       "      <td>1</td>\n",
       "      <td>0</td>\n",
       "      <td>CCCCCCCCC0000000</td>\n",
       "    </tr>\n",
       "  </tbody>\n",
       "</table>\n",
       "</div>"
      ],
      "text/plain": [
       "        application_id application_date  cred_type  cred_sum  cred_active  delay5  delay30  delay60  delay90  delay_more  cred_date cred_enddate cred_enddate_fact  cred_sum_debt  cred_max_overdue  \\\n",
       "69263          9697473       2020-07-24         19    1000.0            0       0        0        0        0           0 2019-09-01   2019-09-13        2019-09-10           0.00               0.0   \n",
       "69266          9697473       2020-07-24         19    1100.0            0       0        0        0        0           0 2019-08-17   2019-08-28        2019-08-27           0.00               0.0   \n",
       "377065         9698504       2020-07-24          5    4655.0            1       0        0        0        0           0 2020-06-12   2020-10-12               NaT        3627.26               0.0   \n",
       "377066         9698504       2020-07-24          5    4219.0            0       0        0        0        0           0 2019-09-05   2020-07-11        2020-07-11           0.00               0.0   \n",
       "377064         9698504       2020-07-24          4   15000.0            0       0        0        0        0           0 2019-04-17   2019-11-10        2019-11-10           0.00               0.0   \n",
       "\n",
       "        cred_sum_overdue  cred_day_overdue  cred_prolong cred_active_date cred_update  cred_partner_type  cred_collateral   payment_pattern  \n",
       "69263                0.0                 0             0       2019-09-10  2019-09-17                  3                0       CCCCCCCCCCC  \n",
       "69266                0.0                 0             0       2019-08-27  2019-09-02                  3                0      CCCCCCCCCCC-  \n",
       "377065               0.0                 0             0       2020-07-12  2020-07-12                  3                0                00  \n",
       "377066               0.0                 0             1       2020-07-11  2020-07-12                  3                0       C0000000000  \n",
       "377064               0.0                 0             0       2019-11-10  2019-11-10                  1                0  CCCCCCCCC0000000  "
      ]
     },
     "execution_count": 14,
     "metadata": {},
     "output_type": "execute_result"
    }
   ],
   "source": [
    "c.tail()"
   ]
  },
  {
   "cell_type": "markdown",
   "metadata": {},
   "source": [
    "In order to serve as input for a convolutional neural network, all the relevant features should be scaled. In this case the features will be scaled to the range [0,1]. This allows to conveniently combine binary, time and numeric features."
   ]
  },
  {
   "cell_type": "markdown",
   "metadata": {},
   "source": [
    "#### Split-Independent Transformations"
   ]
  },
  {
   "cell_type": "code",
   "execution_count": 15,
   "metadata": {},
   "outputs": [
    {
     "data": {
      "text/plain": [
       "19    365945\n",
       "5     101766\n",
       "4      58592\n",
       "18     10027\n",
       "14      2351\n",
       "99      2162\n",
       "1       2011\n",
       "24      1956\n",
       "3       1107\n",
       "20       425\n",
       "6        102\n",
       "0         90\n",
       "7         30\n",
       "9         11\n",
       "8          5\n",
       "16         3\n",
       "13         1\n",
       "Name: cred_type, dtype: int64"
      ]
     },
     "execution_count": 15,
     "metadata": {},
     "output_type": "execute_result"
    }
   ],
   "source": [
    "c.cred_type.value_counts()"
   ]
  },
  {
   "cell_type": "markdown",
   "metadata": {},
   "source": [
    "One-hot encoding of \"cred_type\":"
   ]
  },
  {
   "cell_type": "code",
   "execution_count": 16,
   "metadata": {},
   "outputs": [],
   "source": [
    "c[ 'pay_day_loan' ] = np.where( c.cred_type.isin([ 19, 20 ]), 1, 0 )\n",
    "c[ 'cash_loan' ] = np.where( c.cred_type == 18, 1, 0 )\n",
    "c[ 'consumer_loan' ] = np.where( c.cred_type == 5, 1, 0 )\n",
    "c[ 'revolver_loan' ] = np.where( c.cred_type.isin([ 4, 14, 24 ]), 1, 0 )\n",
    "c[ 'secured_loan' ] = np.where( c.cred_type.isin([ 1, 3, 15, 16 ]), 1, 0 )\n",
    "c[ 'other_loan' ] = np.where( c.cred_type.isin([ 19, 20, 18, 5, 4, 14, 24, 1, 3, 15, 16 ]), 0, 1 )"
   ]
  },
  {
   "cell_type": "code",
   "execution_count": 17,
   "metadata": {},
   "outputs": [
    {
     "data": {
      "text/plain": [
       "0    398023\n",
       "1    139665\n",
       "2      5844\n",
       "5      1333\n",
       "8      1064\n",
       "3       514\n",
       "4       128\n",
       "9        13\n",
       "Name: cred_active, dtype: int64"
      ]
     },
     "execution_count": 17,
     "metadata": {},
     "output_type": "execute_result"
    }
   ],
   "source": [
    "c.cred_active.value_counts()"
   ]
  },
  {
   "cell_type": "markdown",
   "metadata": {},
   "source": [
    "Rare active statuses are encoded as \"1\", too:"
   ]
  },
  {
   "cell_type": "code",
   "execution_count": 18,
   "metadata": {},
   "outputs": [],
   "source": [
    "c.loc[ c.cred_active.isin([ 2, 3, 4, 5, 8, 9 ]), 'cred_active' ] = 1"
   ]
  },
  {
   "cell_type": "markdown",
   "metadata": {},
   "source": [
    "Let us replace \"cred_enddate\" with term of a loan (in days):"
   ]
  },
  {
   "cell_type": "code",
   "execution_count": 19,
   "metadata": {},
   "outputs": [],
   "source": [
    "c[ 'term' ] = ( c.cred_enddate - c.cred_date ).dt.days\n",
    "c.loc[ c.term <= 0, 'term' ] = np.nan"
   ]
  },
  {
   "cell_type": "markdown",
   "metadata": {},
   "source": [
    "Date features are transformed using exponential function (with such parameter that a date of one year before the application date is equal to 0.5):"
   ]
  },
  {
   "cell_type": "code",
   "execution_count": 20,
   "metadata": {},
   "outputs": [],
   "source": [
    "def scale_date( x ) :\n",
    "    c[ x ] = ( c[ 'application_date' ] - c[ x ] ).dt.days\n",
    "    c[ x ] = np.exp( -0.0019 * c[ x ] )"
   ]
  },
  {
   "cell_type": "code",
   "execution_count": 21,
   "metadata": {},
   "outputs": [],
   "source": [
    "for name in [ 'cred_date', 'cred_active_date', 'cred_update' ] :\n",
    "    scale_date( name )"
   ]
  },
  {
   "cell_type": "markdown",
   "metadata": {},
   "source": [
    "\"cred_enddate_fact\" mostly indicates whether a loan was completed or not, so it is transformed into a binary feature:"
   ]
  },
  {
   "cell_type": "code",
   "execution_count": 22,
   "metadata": {},
   "outputs": [],
   "source": [
    "c[ 'cred_enddate_fact' ] = np.where( c.cred_enddate_fact.isnull(), 1, 0 )"
   ]
  },
  {
   "cell_type": "code",
   "execution_count": 23,
   "metadata": {},
   "outputs": [
    {
     "data": {
      "text/plain": [
       "3     370455\n",
       "1     173549\n",
       "5       2045\n",
       "99       428\n",
       "6        105\n",
       "13         2\n",
       "Name: cred_partner_type, dtype: int64"
      ]
     },
     "execution_count": 23,
     "metadata": {},
     "output_type": "execute_result"
    }
   ],
   "source": [
    "c.cred_partner_type.value_counts()"
   ]
  },
  {
   "cell_type": "markdown",
   "metadata": {},
   "source": [
    "\"cred_partner_type\" is usually micro-financing company (\"3\") or bank (\"1\"), so it is transformed to a binary feature:"
   ]
  },
  {
   "cell_type": "code",
   "execution_count": 24,
   "metadata": {},
   "outputs": [],
   "source": [
    "c[ 'cred_partner_type' ] = np.where( c.cred_partner_type == 3, 0, 1 )"
   ]
  },
  {
   "cell_type": "markdown",
   "metadata": {},
   "source": [
    "#### Split-Dependant Transormations"
   ]
  },
  {
   "cell_type": "markdown",
   "metadata": {},
   "source": [
    "Numeric features are transformed with sigmoid function, also using their mean and standard deviation (which act as parameters of the model, and, therefore, should be estimated on the train sample only). Besides, missing values are replaced with the sample means."
   ]
  },
  {
   "cell_type": "code",
   "execution_count": 25,
   "metadata": {},
   "outputs": [],
   "source": [
    "c = c.merge( l[[ 'application_id', 'fold' ]], on='application_id', how='inner' )"
   ]
  },
  {
   "cell_type": "code",
   "execution_count": 26,
   "metadata": {},
   "outputs": [],
   "source": [
    "def scale_numeric( x ) :\n",
    "    for f in [ 1, 2, 3, 4 ] :\n",
    "        m = c.loc[ c.fold != f, x ].mean()\n",
    "        sd = c.loc[ c.fold != f, x ].std()\n",
    "        scaled = ( c.loc[ c.fold == f, x ] - m ) / sd\n",
    "        c.loc[ c.fold == f, x ] = 1 / ( 1 + np.exp( -scaled ) )\n",
    "        c.loc[ c[ x ].isnull(), x ] = c.loc[ c.fold != f, x ].mean()"
   ]
  },
  {
   "cell_type": "code",
   "execution_count": 27,
   "metadata": {},
   "outputs": [],
   "source": [
    "for name in [ 'cred_sum', 'delay5', 'delay30', 'delay60', 'delay90', 'delay_more', 'cred_sum_debt',\n",
    "              'cred_max_overdue', 'cred_sum_overdue', 'cred_day_overdue', 'term' ] :\n",
    "    scale_numeric( name )"
   ]
  },
  {
   "cell_type": "markdown",
   "metadata": {},
   "source": [
    "#### Payment Pattern"
   ]
  },
  {
   "cell_type": "markdown",
   "metadata": {},
   "source": [
    "Payment pattern reflects payment discipline of a customer on a particular loan, so it needs special attention."
   ]
  },
  {
   "cell_type": "code",
   "execution_count": 28,
   "metadata": {},
   "outputs": [
    {
     "data": {
      "text/plain": [
       "0         CC\n",
       "1         C-\n",
       "2         C-\n",
       "3         0-\n",
       "4         -0\n",
       "5    -00----\n",
       "6         CC\n",
       "7         -0\n",
       "8        CC0\n",
       "9         0-\n",
       "Name: payment_pattern, dtype: object"
      ]
     },
     "execution_count": 28,
     "metadata": {},
     "output_type": "execute_result"
    }
   ],
   "source": [
    "c.payment_pattern.head( 10 )"
   ]
  },
  {
   "cell_type": "markdown",
   "metadata": {},
   "source": [
    "It has a variable length, but, according to the bureau's recommendations, the first (recent) 25 characters are taken:"
   ]
  },
  {
   "cell_type": "code",
   "execution_count": 29,
   "metadata": {},
   "outputs": [],
   "source": [
    "c[ 'pattern' ] = c.payment_pattern.str.slice( 0, 25 )"
   ]
  },
  {
   "cell_type": "markdown",
   "metadata": {},
   "source": [
    "The right edge is padded to the standard length with \"-\":"
   ]
  },
  {
   "cell_type": "code",
   "execution_count": 30,
   "metadata": {},
   "outputs": [
    {
     "data": {
      "text/html": [
       "<div>\n",
       "<style scoped>\n",
       "    .dataframe tbody tr th:only-of-type {\n",
       "        vertical-align: middle;\n",
       "    }\n",
       "\n",
       "    .dataframe tbody tr th {\n",
       "        vertical-align: top;\n",
       "    }\n",
       "\n",
       "    .dataframe thead th {\n",
       "        text-align: right;\n",
       "    }\n",
       "</style>\n",
       "<table border=\"1\" class=\"dataframe\">\n",
       "  <thead>\n",
       "    <tr style=\"text-align: right;\">\n",
       "      <th></th>\n",
       "      <th>payment_pattern</th>\n",
       "      <th>pattern</th>\n",
       "    </tr>\n",
       "  </thead>\n",
       "  <tbody>\n",
       "    <tr>\n",
       "      <th>0</th>\n",
       "      <td>CC</td>\n",
       "      <td>CC</td>\n",
       "    </tr>\n",
       "    <tr>\n",
       "      <th>1</th>\n",
       "      <td>C-</td>\n",
       "      <td>C-</td>\n",
       "    </tr>\n",
       "    <tr>\n",
       "      <th>2</th>\n",
       "      <td>C-</td>\n",
       "      <td>C-</td>\n",
       "    </tr>\n",
       "    <tr>\n",
       "      <th>3</th>\n",
       "      <td>0-</td>\n",
       "      <td>0-</td>\n",
       "    </tr>\n",
       "    <tr>\n",
       "      <th>4</th>\n",
       "      <td>-0</td>\n",
       "      <td>-0</td>\n",
       "    </tr>\n",
       "    <tr>\n",
       "      <th>5</th>\n",
       "      <td>-00----</td>\n",
       "      <td>-00----</td>\n",
       "    </tr>\n",
       "    <tr>\n",
       "      <th>6</th>\n",
       "      <td>CC</td>\n",
       "      <td>CC</td>\n",
       "    </tr>\n",
       "    <tr>\n",
       "      <th>7</th>\n",
       "      <td>-0</td>\n",
       "      <td>-0</td>\n",
       "    </tr>\n",
       "    <tr>\n",
       "      <th>8</th>\n",
       "      <td>CC0</td>\n",
       "      <td>CC0</td>\n",
       "    </tr>\n",
       "    <tr>\n",
       "      <th>9</th>\n",
       "      <td>0-</td>\n",
       "      <td>0-</td>\n",
       "    </tr>\n",
       "  </tbody>\n",
       "</table>\n",
       "</div>"
      ],
      "text/plain": [
       "  payment_pattern  pattern\n",
       "0              CC       CC\n",
       "1              C-       C-\n",
       "2              C-       C-\n",
       "3              0-       0-\n",
       "4              -0       -0\n",
       "5         -00----  -00----\n",
       "6              CC       CC\n",
       "7              -0       -0\n",
       "8             CC0      CC0\n",
       "9              0-       0-"
      ]
     },
     "execution_count": 30,
     "metadata": {},
     "output_type": "execute_result"
    }
   ],
   "source": [
    "c[ 'pattern_padded' ] = c.pattern.str.pad( width=25, side='right', fillchar='-' )\n",
    "c[[ 'payment_pattern', 'pattern' ]].head( 10 )"
   ]
  },
  {
   "cell_type": "markdown",
   "metadata": {},
   "source": [
    "Then each character becomes a separate feature:"
   ]
  },
  {
   "cell_type": "code",
   "execution_count": 31,
   "metadata": {},
   "outputs": [],
   "source": [
    "for i in range( 25 ) :\n",
    "    c[ 'p'+str( i ) ] = c.pattern_padded.str.get( i )"
   ]
  },
  {
   "cell_type": "code",
   "execution_count": 32,
   "metadata": {},
   "outputs": [
    {
     "data": {
      "text/html": [
       "<div>\n",
       "<style scoped>\n",
       "    .dataframe tbody tr th:only-of-type {\n",
       "        vertical-align: middle;\n",
       "    }\n",
       "\n",
       "    .dataframe tbody tr th {\n",
       "        vertical-align: top;\n",
       "    }\n",
       "\n",
       "    .dataframe thead th {\n",
       "        text-align: right;\n",
       "    }\n",
       "</style>\n",
       "<table border=\"1\" class=\"dataframe\">\n",
       "  <thead>\n",
       "    <tr style=\"text-align: right;\">\n",
       "      <th></th>\n",
       "      <th>pattern</th>\n",
       "      <th>pattern_padded</th>\n",
       "      <th>p0</th>\n",
       "      <th>p1</th>\n",
       "      <th>p2</th>\n",
       "      <th>p3</th>\n",
       "      <th>p4</th>\n",
       "      <th>p5</th>\n",
       "      <th>p6</th>\n",
       "      <th>p7</th>\n",
       "      <th>p8</th>\n",
       "      <th>p9</th>\n",
       "      <th>p10</th>\n",
       "      <th>p11</th>\n",
       "      <th>p12</th>\n",
       "      <th>p13</th>\n",
       "      <th>p14</th>\n",
       "      <th>p15</th>\n",
       "      <th>p16</th>\n",
       "      <th>p17</th>\n",
       "      <th>p18</th>\n",
       "      <th>p19</th>\n",
       "      <th>p20</th>\n",
       "      <th>p21</th>\n",
       "      <th>p22</th>\n",
       "      <th>p23</th>\n",
       "      <th>p24</th>\n",
       "    </tr>\n",
       "  </thead>\n",
       "  <tbody>\n",
       "    <tr>\n",
       "      <th>0</th>\n",
       "      <td>CC</td>\n",
       "      <td>CC-----------------------</td>\n",
       "      <td>C</td>\n",
       "      <td>C</td>\n",
       "      <td>-</td>\n",
       "      <td>-</td>\n",
       "      <td>-</td>\n",
       "      <td>-</td>\n",
       "      <td>-</td>\n",
       "      <td>-</td>\n",
       "      <td>-</td>\n",
       "      <td>-</td>\n",
       "      <td>-</td>\n",
       "      <td>-</td>\n",
       "      <td>-</td>\n",
       "      <td>-</td>\n",
       "      <td>-</td>\n",
       "      <td>-</td>\n",
       "      <td>-</td>\n",
       "      <td>-</td>\n",
       "      <td>-</td>\n",
       "      <td>-</td>\n",
       "      <td>-</td>\n",
       "      <td>-</td>\n",
       "      <td>-</td>\n",
       "      <td>-</td>\n",
       "      <td>-</td>\n",
       "    </tr>\n",
       "    <tr>\n",
       "      <th>1</th>\n",
       "      <td>C-</td>\n",
       "      <td>C------------------------</td>\n",
       "      <td>C</td>\n",
       "      <td>-</td>\n",
       "      <td>-</td>\n",
       "      <td>-</td>\n",
       "      <td>-</td>\n",
       "      <td>-</td>\n",
       "      <td>-</td>\n",
       "      <td>-</td>\n",
       "      <td>-</td>\n",
       "      <td>-</td>\n",
       "      <td>-</td>\n",
       "      <td>-</td>\n",
       "      <td>-</td>\n",
       "      <td>-</td>\n",
       "      <td>-</td>\n",
       "      <td>-</td>\n",
       "      <td>-</td>\n",
       "      <td>-</td>\n",
       "      <td>-</td>\n",
       "      <td>-</td>\n",
       "      <td>-</td>\n",
       "      <td>-</td>\n",
       "      <td>-</td>\n",
       "      <td>-</td>\n",
       "      <td>-</td>\n",
       "    </tr>\n",
       "    <tr>\n",
       "      <th>2</th>\n",
       "      <td>C-</td>\n",
       "      <td>C------------------------</td>\n",
       "      <td>C</td>\n",
       "      <td>-</td>\n",
       "      <td>-</td>\n",
       "      <td>-</td>\n",
       "      <td>-</td>\n",
       "      <td>-</td>\n",
       "      <td>-</td>\n",
       "      <td>-</td>\n",
       "      <td>-</td>\n",
       "      <td>-</td>\n",
       "      <td>-</td>\n",
       "      <td>-</td>\n",
       "      <td>-</td>\n",
       "      <td>-</td>\n",
       "      <td>-</td>\n",
       "      <td>-</td>\n",
       "      <td>-</td>\n",
       "      <td>-</td>\n",
       "      <td>-</td>\n",
       "      <td>-</td>\n",
       "      <td>-</td>\n",
       "      <td>-</td>\n",
       "      <td>-</td>\n",
       "      <td>-</td>\n",
       "      <td>-</td>\n",
       "    </tr>\n",
       "    <tr>\n",
       "      <th>3</th>\n",
       "      <td>0-</td>\n",
       "      <td>0------------------------</td>\n",
       "      <td>0</td>\n",
       "      <td>-</td>\n",
       "      <td>-</td>\n",
       "      <td>-</td>\n",
       "      <td>-</td>\n",
       "      <td>-</td>\n",
       "      <td>-</td>\n",
       "      <td>-</td>\n",
       "      <td>-</td>\n",
       "      <td>-</td>\n",
       "      <td>-</td>\n",
       "      <td>-</td>\n",
       "      <td>-</td>\n",
       "      <td>-</td>\n",
       "      <td>-</td>\n",
       "      <td>-</td>\n",
       "      <td>-</td>\n",
       "      <td>-</td>\n",
       "      <td>-</td>\n",
       "      <td>-</td>\n",
       "      <td>-</td>\n",
       "      <td>-</td>\n",
       "      <td>-</td>\n",
       "      <td>-</td>\n",
       "      <td>-</td>\n",
       "    </tr>\n",
       "    <tr>\n",
       "      <th>4</th>\n",
       "      <td>-0</td>\n",
       "      <td>-0-----------------------</td>\n",
       "      <td>-</td>\n",
       "      <td>0</td>\n",
       "      <td>-</td>\n",
       "      <td>-</td>\n",
       "      <td>-</td>\n",
       "      <td>-</td>\n",
       "      <td>-</td>\n",
       "      <td>-</td>\n",
       "      <td>-</td>\n",
       "      <td>-</td>\n",
       "      <td>-</td>\n",
       "      <td>-</td>\n",
       "      <td>-</td>\n",
       "      <td>-</td>\n",
       "      <td>-</td>\n",
       "      <td>-</td>\n",
       "      <td>-</td>\n",
       "      <td>-</td>\n",
       "      <td>-</td>\n",
       "      <td>-</td>\n",
       "      <td>-</td>\n",
       "      <td>-</td>\n",
       "      <td>-</td>\n",
       "      <td>-</td>\n",
       "      <td>-</td>\n",
       "    </tr>\n",
       "    <tr>\n",
       "      <th>5</th>\n",
       "      <td>-00----</td>\n",
       "      <td>-00----------------------</td>\n",
       "      <td>-</td>\n",
       "      <td>0</td>\n",
       "      <td>0</td>\n",
       "      <td>-</td>\n",
       "      <td>-</td>\n",
       "      <td>-</td>\n",
       "      <td>-</td>\n",
       "      <td>-</td>\n",
       "      <td>-</td>\n",
       "      <td>-</td>\n",
       "      <td>-</td>\n",
       "      <td>-</td>\n",
       "      <td>-</td>\n",
       "      <td>-</td>\n",
       "      <td>-</td>\n",
       "      <td>-</td>\n",
       "      <td>-</td>\n",
       "      <td>-</td>\n",
       "      <td>-</td>\n",
       "      <td>-</td>\n",
       "      <td>-</td>\n",
       "      <td>-</td>\n",
       "      <td>-</td>\n",
       "      <td>-</td>\n",
       "      <td>-</td>\n",
       "    </tr>\n",
       "    <tr>\n",
       "      <th>6</th>\n",
       "      <td>CC</td>\n",
       "      <td>CC-----------------------</td>\n",
       "      <td>C</td>\n",
       "      <td>C</td>\n",
       "      <td>-</td>\n",
       "      <td>-</td>\n",
       "      <td>-</td>\n",
       "      <td>-</td>\n",
       "      <td>-</td>\n",
       "      <td>-</td>\n",
       "      <td>-</td>\n",
       "      <td>-</td>\n",
       "      <td>-</td>\n",
       "      <td>-</td>\n",
       "      <td>-</td>\n",
       "      <td>-</td>\n",
       "      <td>-</td>\n",
       "      <td>-</td>\n",
       "      <td>-</td>\n",
       "      <td>-</td>\n",
       "      <td>-</td>\n",
       "      <td>-</td>\n",
       "      <td>-</td>\n",
       "      <td>-</td>\n",
       "      <td>-</td>\n",
       "      <td>-</td>\n",
       "      <td>-</td>\n",
       "    </tr>\n",
       "    <tr>\n",
       "      <th>7</th>\n",
       "      <td>-0</td>\n",
       "      <td>-0-----------------------</td>\n",
       "      <td>-</td>\n",
       "      <td>0</td>\n",
       "      <td>-</td>\n",
       "      <td>-</td>\n",
       "      <td>-</td>\n",
       "      <td>-</td>\n",
       "      <td>-</td>\n",
       "      <td>-</td>\n",
       "      <td>-</td>\n",
       "      <td>-</td>\n",
       "      <td>-</td>\n",
       "      <td>-</td>\n",
       "      <td>-</td>\n",
       "      <td>-</td>\n",
       "      <td>-</td>\n",
       "      <td>-</td>\n",
       "      <td>-</td>\n",
       "      <td>-</td>\n",
       "      <td>-</td>\n",
       "      <td>-</td>\n",
       "      <td>-</td>\n",
       "      <td>-</td>\n",
       "      <td>-</td>\n",
       "      <td>-</td>\n",
       "      <td>-</td>\n",
       "    </tr>\n",
       "    <tr>\n",
       "      <th>8</th>\n",
       "      <td>CC0</td>\n",
       "      <td>CC0----------------------</td>\n",
       "      <td>C</td>\n",
       "      <td>C</td>\n",
       "      <td>0</td>\n",
       "      <td>-</td>\n",
       "      <td>-</td>\n",
       "      <td>-</td>\n",
       "      <td>-</td>\n",
       "      <td>-</td>\n",
       "      <td>-</td>\n",
       "      <td>-</td>\n",
       "      <td>-</td>\n",
       "      <td>-</td>\n",
       "      <td>-</td>\n",
       "      <td>-</td>\n",
       "      <td>-</td>\n",
       "      <td>-</td>\n",
       "      <td>-</td>\n",
       "      <td>-</td>\n",
       "      <td>-</td>\n",
       "      <td>-</td>\n",
       "      <td>-</td>\n",
       "      <td>-</td>\n",
       "      <td>-</td>\n",
       "      <td>-</td>\n",
       "      <td>-</td>\n",
       "    </tr>\n",
       "    <tr>\n",
       "      <th>9</th>\n",
       "      <td>0-</td>\n",
       "      <td>0------------------------</td>\n",
       "      <td>0</td>\n",
       "      <td>-</td>\n",
       "      <td>-</td>\n",
       "      <td>-</td>\n",
       "      <td>-</td>\n",
       "      <td>-</td>\n",
       "      <td>-</td>\n",
       "      <td>-</td>\n",
       "      <td>-</td>\n",
       "      <td>-</td>\n",
       "      <td>-</td>\n",
       "      <td>-</td>\n",
       "      <td>-</td>\n",
       "      <td>-</td>\n",
       "      <td>-</td>\n",
       "      <td>-</td>\n",
       "      <td>-</td>\n",
       "      <td>-</td>\n",
       "      <td>-</td>\n",
       "      <td>-</td>\n",
       "      <td>-</td>\n",
       "      <td>-</td>\n",
       "      <td>-</td>\n",
       "      <td>-</td>\n",
       "      <td>-</td>\n",
       "    </tr>\n",
       "  </tbody>\n",
       "</table>\n",
       "</div>"
      ],
      "text/plain": [
       "   pattern             pattern_padded p0 p1 p2 p3 p4 p5 p6 p7 p8 p9 p10 p11 p12 p13 p14 p15 p16 p17 p18 p19 p20 p21 p22 p23 p24\n",
       "0       CC  CC-----------------------  C  C  -  -  -  -  -  -  -  -   -   -   -   -   -   -   -   -   -   -   -   -   -   -   -\n",
       "1       C-  C------------------------  C  -  -  -  -  -  -  -  -  -   -   -   -   -   -   -   -   -   -   -   -   -   -   -   -\n",
       "2       C-  C------------------------  C  -  -  -  -  -  -  -  -  -   -   -   -   -   -   -   -   -   -   -   -   -   -   -   -\n",
       "3       0-  0------------------------  0  -  -  -  -  -  -  -  -  -   -   -   -   -   -   -   -   -   -   -   -   -   -   -   -\n",
       "4       -0  -0-----------------------  -  0  -  -  -  -  -  -  -  -   -   -   -   -   -   -   -   -   -   -   -   -   -   -   -\n",
       "5  -00----  -00----------------------  -  0  0  -  -  -  -  -  -  -   -   -   -   -   -   -   -   -   -   -   -   -   -   -   -\n",
       "6       CC  CC-----------------------  C  C  -  -  -  -  -  -  -  -   -   -   -   -   -   -   -   -   -   -   -   -   -   -   -\n",
       "7       -0  -0-----------------------  -  0  -  -  -  -  -  -  -  -   -   -   -   -   -   -   -   -   -   -   -   -   -   -   -\n",
       "8      CC0  CC0----------------------  C  C  0  -  -  -  -  -  -  -   -   -   -   -   -   -   -   -   -   -   -   -   -   -   -\n",
       "9       0-  0------------------------  0  -  -  -  -  -  -  -  -  -   -   -   -   -   -   -   -   -   -   -   -   -   -   -   -"
      ]
     },
     "execution_count": 32,
     "metadata": {},
     "output_type": "execute_result"
    }
   ],
   "source": [
    "c.iloc[ :10, 31: ]"
   ]
  },
  {
   "cell_type": "markdown",
   "metadata": {},
   "source": [
    "The caracters are replaced with numeric values of the range [0,1] defined based on the documentation:"
   ]
  },
  {
   "cell_type": "code",
   "execution_count": 34,
   "metadata": {},
   "outputs": [],
   "source": [
    "for col in c.iloc[ :, 33: ].columns :\n",
    "    c.loc[ c[ col ].isin([ '-', 'I', 'N', '0', 'C', 'R' ]), col ] = 0\n",
    "    c.loc[ c[ col ] == '1', col ] = 0.1\n",
    "    c.loc[ c[ col ] == '2', col ] = 0.2\n",
    "    c.loc[ c[ col ] == '3', col ] = 0.3\n",
    "    c.loc[ c[ col ] == '4', col ] = 0.4\n",
    "    c.loc[ c[ col ] == '5', col ] = 0.5\n",
    "    c.loc[ c[ col ] == '6', col ] = 0.6\n",
    "    c.loc[ c[ col ] == '7', col ] = 0.7\n",
    "    c.loc[ c[ col ] == '8', col ] = 0.8\n",
    "    c.loc[ c[ col ] == '9', col ] = 0.9\n",
    "    c.loc[ c[ col ].isin([ 'B', 'S', 'W', 'U', 'T' ]), col ] = 1\n",
    "    c[ col ] = pd.to_numeric( c[ col ] )"
   ]
  },
  {
   "cell_type": "code",
   "execution_count": 35,
   "metadata": {},
   "outputs": [
    {
     "data": {
      "text/html": [
       "<div>\n",
       "<style scoped>\n",
       "    .dataframe tbody tr th:only-of-type {\n",
       "        vertical-align: middle;\n",
       "    }\n",
       "\n",
       "    .dataframe tbody tr th {\n",
       "        vertical-align: top;\n",
       "    }\n",
       "\n",
       "    .dataframe thead th {\n",
       "        text-align: right;\n",
       "    }\n",
       "</style>\n",
       "<table border=\"1\" class=\"dataframe\">\n",
       "  <thead>\n",
       "    <tr style=\"text-align: right;\">\n",
       "      <th></th>\n",
       "      <th>pattern</th>\n",
       "      <th>pattern_padded</th>\n",
       "      <th>p0</th>\n",
       "      <th>p1</th>\n",
       "      <th>p2</th>\n",
       "      <th>p3</th>\n",
       "      <th>p4</th>\n",
       "      <th>p5</th>\n",
       "      <th>p6</th>\n",
       "      <th>p7</th>\n",
       "      <th>p8</th>\n",
       "      <th>p9</th>\n",
       "      <th>p10</th>\n",
       "      <th>p11</th>\n",
       "      <th>p12</th>\n",
       "      <th>p13</th>\n",
       "      <th>p14</th>\n",
       "      <th>p15</th>\n",
       "      <th>p16</th>\n",
       "      <th>p17</th>\n",
       "      <th>p18</th>\n",
       "      <th>p19</th>\n",
       "      <th>p20</th>\n",
       "      <th>p21</th>\n",
       "      <th>p22</th>\n",
       "      <th>p23</th>\n",
       "      <th>p24</th>\n",
       "    </tr>\n",
       "  </thead>\n",
       "  <tbody>\n",
       "    <tr>\n",
       "      <th>287837</th>\n",
       "      <td>-0</td>\n",
       "      <td>-0-----------------------</td>\n",
       "      <td>0.0</td>\n",
       "      <td>0.0</td>\n",
       "      <td>0.0</td>\n",
       "      <td>0.0</td>\n",
       "      <td>0.0</td>\n",
       "      <td>0.0</td>\n",
       "      <td>0.0</td>\n",
       "      <td>0.0</td>\n",
       "      <td>0.0</td>\n",
       "      <td>0.0</td>\n",
       "      <td>0.0</td>\n",
       "      <td>0.0</td>\n",
       "      <td>0.0</td>\n",
       "      <td>0.0</td>\n",
       "      <td>0.0</td>\n",
       "      <td>0.0</td>\n",
       "      <td>0.0</td>\n",
       "      <td>0.0</td>\n",
       "      <td>0.0</td>\n",
       "      <td>0.0</td>\n",
       "      <td>0.0</td>\n",
       "      <td>0.0</td>\n",
       "      <td>0.0</td>\n",
       "      <td>0.0</td>\n",
       "      <td>0.0</td>\n",
       "    </tr>\n",
       "    <tr>\n",
       "      <th>34248</th>\n",
       "      <td>CCCCC</td>\n",
       "      <td>CCCCC--------------------</td>\n",
       "      <td>0.0</td>\n",
       "      <td>0.0</td>\n",
       "      <td>0.0</td>\n",
       "      <td>0.0</td>\n",
       "      <td>0.0</td>\n",
       "      <td>0.0</td>\n",
       "      <td>0.0</td>\n",
       "      <td>0.0</td>\n",
       "      <td>0.0</td>\n",
       "      <td>0.0</td>\n",
       "      <td>0.0</td>\n",
       "      <td>0.0</td>\n",
       "      <td>0.0</td>\n",
       "      <td>0.0</td>\n",
       "      <td>0.0</td>\n",
       "      <td>0.0</td>\n",
       "      <td>0.0</td>\n",
       "      <td>0.0</td>\n",
       "      <td>0.0</td>\n",
       "      <td>0.0</td>\n",
       "      <td>0.0</td>\n",
       "      <td>0.0</td>\n",
       "      <td>0.0</td>\n",
       "      <td>0.0</td>\n",
       "      <td>0.0</td>\n",
       "    </tr>\n",
       "    <tr>\n",
       "      <th>53047</th>\n",
       "      <td>0000000000000000000000000</td>\n",
       "      <td>0000000000000000000000000</td>\n",
       "      <td>0.0</td>\n",
       "      <td>0.0</td>\n",
       "      <td>0.0</td>\n",
       "      <td>0.0</td>\n",
       "      <td>0.0</td>\n",
       "      <td>0.0</td>\n",
       "      <td>0.0</td>\n",
       "      <td>0.0</td>\n",
       "      <td>0.0</td>\n",
       "      <td>0.0</td>\n",
       "      <td>0.0</td>\n",
       "      <td>0.0</td>\n",
       "      <td>0.0</td>\n",
       "      <td>0.0</td>\n",
       "      <td>0.0</td>\n",
       "      <td>0.0</td>\n",
       "      <td>0.0</td>\n",
       "      <td>0.0</td>\n",
       "      <td>0.0</td>\n",
       "      <td>0.0</td>\n",
       "      <td>0.0</td>\n",
       "      <td>0.0</td>\n",
       "      <td>0.0</td>\n",
       "      <td>0.0</td>\n",
       "      <td>0.0</td>\n",
       "    </tr>\n",
       "    <tr>\n",
       "      <th>196123</th>\n",
       "      <td>CCCCCCCCCC20</td>\n",
       "      <td>CCCCCCCCCC20-------------</td>\n",
       "      <td>0.0</td>\n",
       "      <td>0.0</td>\n",
       "      <td>0.0</td>\n",
       "      <td>0.0</td>\n",
       "      <td>0.0</td>\n",
       "      <td>0.0</td>\n",
       "      <td>0.0</td>\n",
       "      <td>0.0</td>\n",
       "      <td>0.0</td>\n",
       "      <td>0.0</td>\n",
       "      <td>0.2</td>\n",
       "      <td>0.0</td>\n",
       "      <td>0.0</td>\n",
       "      <td>0.0</td>\n",
       "      <td>0.0</td>\n",
       "      <td>0.0</td>\n",
       "      <td>0.0</td>\n",
       "      <td>0.0</td>\n",
       "      <td>0.0</td>\n",
       "      <td>0.0</td>\n",
       "      <td>0.0</td>\n",
       "      <td>0.0</td>\n",
       "      <td>0.0</td>\n",
       "      <td>0.0</td>\n",
       "      <td>0.0</td>\n",
       "    </tr>\n",
       "    <tr>\n",
       "      <th>217799</th>\n",
       "      <td>CCCCCCCCCC0</td>\n",
       "      <td>CCCCCCCCCC0--------------</td>\n",
       "      <td>0.0</td>\n",
       "      <td>0.0</td>\n",
       "      <td>0.0</td>\n",
       "      <td>0.0</td>\n",
       "      <td>0.0</td>\n",
       "      <td>0.0</td>\n",
       "      <td>0.0</td>\n",
       "      <td>0.0</td>\n",
       "      <td>0.0</td>\n",
       "      <td>0.0</td>\n",
       "      <td>0.0</td>\n",
       "      <td>0.0</td>\n",
       "      <td>0.0</td>\n",
       "      <td>0.0</td>\n",
       "      <td>0.0</td>\n",
       "      <td>0.0</td>\n",
       "      <td>0.0</td>\n",
       "      <td>0.0</td>\n",
       "      <td>0.0</td>\n",
       "      <td>0.0</td>\n",
       "      <td>0.0</td>\n",
       "      <td>0.0</td>\n",
       "      <td>0.0</td>\n",
       "      <td>0.0</td>\n",
       "      <td>0.0</td>\n",
       "    </tr>\n",
       "    <tr>\n",
       "      <th>500786</th>\n",
       "      <td>CCCCCCCCCCCCCCCCCCCCCCCCC</td>\n",
       "      <td>CCCCCCCCCCCCCCCCCCCCCCCCC</td>\n",
       "      <td>0.0</td>\n",
       "      <td>0.0</td>\n",
       "      <td>0.0</td>\n",
       "      <td>0.0</td>\n",
       "      <td>0.0</td>\n",
       "      <td>0.0</td>\n",
       "      <td>0.0</td>\n",
       "      <td>0.0</td>\n",
       "      <td>0.0</td>\n",
       "      <td>0.0</td>\n",
       "      <td>0.0</td>\n",
       "      <td>0.0</td>\n",
       "      <td>0.0</td>\n",
       "      <td>0.0</td>\n",
       "      <td>0.0</td>\n",
       "      <td>0.0</td>\n",
       "      <td>0.0</td>\n",
       "      <td>0.0</td>\n",
       "      <td>0.0</td>\n",
       "      <td>0.0</td>\n",
       "      <td>0.0</td>\n",
       "      <td>0.0</td>\n",
       "      <td>0.0</td>\n",
       "      <td>0.0</td>\n",
       "      <td>0.0</td>\n",
       "    </tr>\n",
       "    <tr>\n",
       "      <th>316119</th>\n",
       "      <td>-000</td>\n",
       "      <td>-000---------------------</td>\n",
       "      <td>0.0</td>\n",
       "      <td>0.0</td>\n",
       "      <td>0.0</td>\n",
       "      <td>0.0</td>\n",
       "      <td>0.0</td>\n",
       "      <td>0.0</td>\n",
       "      <td>0.0</td>\n",
       "      <td>0.0</td>\n",
       "      <td>0.0</td>\n",
       "      <td>0.0</td>\n",
       "      <td>0.0</td>\n",
       "      <td>0.0</td>\n",
       "      <td>0.0</td>\n",
       "      <td>0.0</td>\n",
       "      <td>0.0</td>\n",
       "      <td>0.0</td>\n",
       "      <td>0.0</td>\n",
       "      <td>0.0</td>\n",
       "      <td>0.0</td>\n",
       "      <td>0.0</td>\n",
       "      <td>0.0</td>\n",
       "      <td>0.0</td>\n",
       "      <td>0.0</td>\n",
       "      <td>0.0</td>\n",
       "      <td>0.0</td>\n",
       "    </tr>\n",
       "    <tr>\n",
       "      <th>351755</th>\n",
       "      <td>CC</td>\n",
       "      <td>CC-----------------------</td>\n",
       "      <td>0.0</td>\n",
       "      <td>0.0</td>\n",
       "      <td>0.0</td>\n",
       "      <td>0.0</td>\n",
       "      <td>0.0</td>\n",
       "      <td>0.0</td>\n",
       "      <td>0.0</td>\n",
       "      <td>0.0</td>\n",
       "      <td>0.0</td>\n",
       "      <td>0.0</td>\n",
       "      <td>0.0</td>\n",
       "      <td>0.0</td>\n",
       "      <td>0.0</td>\n",
       "      <td>0.0</td>\n",
       "      <td>0.0</td>\n",
       "      <td>0.0</td>\n",
       "      <td>0.0</td>\n",
       "      <td>0.0</td>\n",
       "      <td>0.0</td>\n",
       "      <td>0.0</td>\n",
       "      <td>0.0</td>\n",
       "      <td>0.0</td>\n",
       "      <td>0.0</td>\n",
       "      <td>0.0</td>\n",
       "      <td>0.0</td>\n",
       "    </tr>\n",
       "    <tr>\n",
       "      <th>67576</th>\n",
       "      <td>-00000</td>\n",
       "      <td>-00000-------------------</td>\n",
       "      <td>0.0</td>\n",
       "      <td>0.0</td>\n",
       "      <td>0.0</td>\n",
       "      <td>0.0</td>\n",
       "      <td>0.0</td>\n",
       "      <td>0.0</td>\n",
       "      <td>0.0</td>\n",
       "      <td>0.0</td>\n",
       "      <td>0.0</td>\n",
       "      <td>0.0</td>\n",
       "      <td>0.0</td>\n",
       "      <td>0.0</td>\n",
       "      <td>0.0</td>\n",
       "      <td>0.0</td>\n",
       "      <td>0.0</td>\n",
       "      <td>0.0</td>\n",
       "      <td>0.0</td>\n",
       "      <td>0.0</td>\n",
       "      <td>0.0</td>\n",
       "      <td>0.0</td>\n",
       "      <td>0.0</td>\n",
       "      <td>0.0</td>\n",
       "      <td>0.0</td>\n",
       "      <td>0.0</td>\n",
       "      <td>0.0</td>\n",
       "    </tr>\n",
       "    <tr>\n",
       "      <th>8388</th>\n",
       "      <td>CCCC------------------</td>\n",
       "      <td>CCCC---------------------</td>\n",
       "      <td>0.0</td>\n",
       "      <td>0.0</td>\n",
       "      <td>0.0</td>\n",
       "      <td>0.0</td>\n",
       "      <td>0.0</td>\n",
       "      <td>0.0</td>\n",
       "      <td>0.0</td>\n",
       "      <td>0.0</td>\n",
       "      <td>0.0</td>\n",
       "      <td>0.0</td>\n",
       "      <td>0.0</td>\n",
       "      <td>0.0</td>\n",
       "      <td>0.0</td>\n",
       "      <td>0.0</td>\n",
       "      <td>0.0</td>\n",
       "      <td>0.0</td>\n",
       "      <td>0.0</td>\n",
       "      <td>0.0</td>\n",
       "      <td>0.0</td>\n",
       "      <td>0.0</td>\n",
       "      <td>0.0</td>\n",
       "      <td>0.0</td>\n",
       "      <td>0.0</td>\n",
       "      <td>0.0</td>\n",
       "      <td>0.0</td>\n",
       "    </tr>\n",
       "  </tbody>\n",
       "</table>\n",
       "</div>"
      ],
      "text/plain": [
       "                          pattern             pattern_padded   p0   p1   p2   p3   p4   p5   p6   p7   p8   p9  p10  p11  p12  p13  p14  p15  p16  p17  p18  p19  p20  p21  p22  p23  p24\n",
       "287837                         -0  -0-----------------------  0.0  0.0  0.0  0.0  0.0  0.0  0.0  0.0  0.0  0.0  0.0  0.0  0.0  0.0  0.0  0.0  0.0  0.0  0.0  0.0  0.0  0.0  0.0  0.0  0.0\n",
       "34248                       CCCCC  CCCCC--------------------  0.0  0.0  0.0  0.0  0.0  0.0  0.0  0.0  0.0  0.0  0.0  0.0  0.0  0.0  0.0  0.0  0.0  0.0  0.0  0.0  0.0  0.0  0.0  0.0  0.0\n",
       "53047   0000000000000000000000000  0000000000000000000000000  0.0  0.0  0.0  0.0  0.0  0.0  0.0  0.0  0.0  0.0  0.0  0.0  0.0  0.0  0.0  0.0  0.0  0.0  0.0  0.0  0.0  0.0  0.0  0.0  0.0\n",
       "196123               CCCCCCCCCC20  CCCCCCCCCC20-------------  0.0  0.0  0.0  0.0  0.0  0.0  0.0  0.0  0.0  0.0  0.2  0.0  0.0  0.0  0.0  0.0  0.0  0.0  0.0  0.0  0.0  0.0  0.0  0.0  0.0\n",
       "217799                CCCCCCCCCC0  CCCCCCCCCC0--------------  0.0  0.0  0.0  0.0  0.0  0.0  0.0  0.0  0.0  0.0  0.0  0.0  0.0  0.0  0.0  0.0  0.0  0.0  0.0  0.0  0.0  0.0  0.0  0.0  0.0\n",
       "500786  CCCCCCCCCCCCCCCCCCCCCCCCC  CCCCCCCCCCCCCCCCCCCCCCCCC  0.0  0.0  0.0  0.0  0.0  0.0  0.0  0.0  0.0  0.0  0.0  0.0  0.0  0.0  0.0  0.0  0.0  0.0  0.0  0.0  0.0  0.0  0.0  0.0  0.0\n",
       "316119                       -000  -000---------------------  0.0  0.0  0.0  0.0  0.0  0.0  0.0  0.0  0.0  0.0  0.0  0.0  0.0  0.0  0.0  0.0  0.0  0.0  0.0  0.0  0.0  0.0  0.0  0.0  0.0\n",
       "351755                         CC  CC-----------------------  0.0  0.0  0.0  0.0  0.0  0.0  0.0  0.0  0.0  0.0  0.0  0.0  0.0  0.0  0.0  0.0  0.0  0.0  0.0  0.0  0.0  0.0  0.0  0.0  0.0\n",
       "67576                      -00000  -00000-------------------  0.0  0.0  0.0  0.0  0.0  0.0  0.0  0.0  0.0  0.0  0.0  0.0  0.0  0.0  0.0  0.0  0.0  0.0  0.0  0.0  0.0  0.0  0.0  0.0  0.0\n",
       "8388       CCCC------------------  CCCC---------------------  0.0  0.0  0.0  0.0  0.0  0.0  0.0  0.0  0.0  0.0  0.0  0.0  0.0  0.0  0.0  0.0  0.0  0.0  0.0  0.0  0.0  0.0  0.0  0.0  0.0"
      ]
     },
     "execution_count": 35,
     "metadata": {},
     "output_type": "execute_result"
    }
   ],
   "source": [
    "c.iloc[ :, 31: ].sample( 10 )"
   ]
  },
  {
   "cell_type": "markdown",
   "metadata": {},
   "source": [
    "Extra columns are removed:"
   ]
  },
  {
   "cell_type": "code",
   "execution_count": 36,
   "metadata": {},
   "outputs": [],
   "source": [
    "c.drop( [ 'application_date', 'cred_type', 'cred_enddate', 'payment_pattern', 'fold', 'pattern_padded' ], \n",
    "       axis=1, inplace=True )"
   ]
  },
  {
   "cell_type": "markdown",
   "metadata": {},
   "source": [
    "Number of records (loans) in credit history vary for each application (customer). But in order to serve as input for a convolutional neural network, they need to be equalised. Let us take so many most recent records that 80% of applications are not trimmed.\n",
    "At first it is necessary to examine the distribution of the number of records."
   ]
  },
  {
   "cell_type": "code",
   "execution_count": 37,
   "metadata": {},
   "outputs": [
    {
     "data": {
      "text/plain": [
       "count    27039.000000\n",
       "mean        20.208255\n",
       "std         33.520753\n",
       "min          1.000000\n",
       "25%          6.000000\n",
       "50%         12.000000\n",
       "75%         24.000000\n",
       "max       2142.000000\n",
       "Name: cred_sum, dtype: float64"
      ]
     },
     "execution_count": 37,
     "metadata": {},
     "output_type": "execute_result"
    }
   ],
   "source": [
    "c.groupby( 'application_id' )[ 'cred_sum' ].count().describe()"
   ]
  },
  {
   "cell_type": "code",
   "execution_count": 38,
   "metadata": {},
   "outputs": [
    {
     "data": {
      "text/plain": [
       "28.0"
      ]
     },
     "execution_count": 38,
     "metadata": {},
     "output_type": "execute_result"
    }
   ],
   "source": [
    "c.groupby( 'application_id' )[ 'cred_sum' ].count().quantile( 0.8 )"
   ]
  },
  {
   "cell_type": "markdown",
   "metadata": {},
   "source": [
    "So number of credit records will be limited by 27. Let us define a function which takes only the 27 most recent records. If the number is lower, dummy rows filled with \"0\" are appended to the bottom."
   ]
  },
  {
   "cell_type": "code",
   "execution_count": 39,
   "metadata": {},
   "outputs": [],
   "source": [
    "features_data = np.empty(( 0, 27, 50 ))"
   ]
  },
  {
   "cell_type": "markdown",
   "metadata": {},
   "source": [
    "A function to transform the input into a 3-dimensional array:"
   ]
  },
  {
   "cell_type": "code",
   "execution_count": 40,
   "metadata": {},
   "outputs": [],
   "source": [
    "def features_to_3d ( x ) :\n",
    "    global feautures_data\n",
    "    application_records = c.loc[ c.application_id == x ].values\n",
    "    matrix = application_records[ :27, 1: ]\n",
    "    nrec = matrix.shape[ 0 ]\n",
    "    if nrec < 27 :\n",
    "        matrix = np.vstack([ matrix, np.zeros(( 27-nrec, 50 )) ])\n",
    "    matrix = matrix.reshape(( 1, 27, 50 ))\n",
    "    feautures_data = np.vstack([ feautures_data, matrix ])"
   ]
  },
  {
   "cell_type": "code",
   "execution_count": 47,
   "metadata": {
    "scrolled": true
   },
   "outputs": [],
   "source": [
    "l.application_id.apply( features_to_3d )"
   ]
  },
  {
   "cell_type": "code",
   "execution_count": 48,
   "metadata": {},
   "outputs": [
    {
     "data": {
      "text/plain": [
       "(27039, 27, 50)"
      ]
     },
     "execution_count": 48,
     "metadata": {},
     "output_type": "execute_result"
    }
   ],
   "source": [
    "features_data.shape"
   ]
  },
  {
   "cell_type": "markdown",
   "metadata": {},
   "source": [
    "Now each label corresponds to a 2-dimensional matrix (27x50) of features. This is desired input for a convolutional neural network."
   ]
  },
  {
   "cell_type": "code",
   "execution_count": 49,
   "metadata": {},
   "outputs": [],
   "source": [
    "features_data = np.float32( features_data.reshape( 27039, 27, 50, 1 ) )"
   ]
  },
  {
   "cell_type": "markdown",
   "metadata": {},
   "source": [
    "#### Cross-Validation of the Convolutional Neural Network"
   ]
  },
  {
   "cell_type": "markdown",
   "metadata": {},
   "source": [
    "Cross-validation on 4 folds (75%/25%) will be carried out. On each fold Mean Squared Error of the CNN model will be measured and compared to naive approach: simple sample mean."
   ]
  },
  {
   "cell_type": "code",
   "execution_count": 50,
   "metadata": {},
   "outputs": [],
   "source": [
    "t = pd.DataFrame( index=[ 1, 2, 3, 4 ] )\n",
    "t[ 'mse_cnn' ] = 0.0\n",
    "t[ 'epochs' ] = 0\n",
    "t[ 'mse_naive' ] = 0.0"
   ]
  },
  {
   "cell_type": "code",
   "execution_count": 51,
   "metadata": {},
   "outputs": [],
   "source": [
    "stop = EarlyStopping( patience=10, restore_best_weights=True )"
   ]
  },
  {
   "cell_type": "markdown",
   "metadata": {},
   "source": [
    "Loop for configuring the CNN and cross-validation:"
   ]
  },
  {
   "cell_type": "code",
   "execution_count": null,
   "metadata": {},
   "outputs": [],
   "source": [
    "for i in t.index :\n",
    "    ytrain = np.float32( l.loc[ l.fold != i, 'label' ] )\n",
    "    ytest = np.float32( l.loc[ l.fold == i, 'label' ] )\n",
    "    xtrain = features_data[ l.fold != i, :, :, : ] \n",
    "    xtest = features_data[ l.fold == i, :, :, : ]\n",
    "    batch = xtrain.shape[ 0 ]\n",
    "    naive = np.mean( ytrain )\n",
    "    cnn_model = Sequential()\n",
    "    cnn_model.add( Conv2D( filters=5, kernel_size=( 27, 5 ), padding='same', \n",
    "        kernel_initializer='zeros', bias_initializer='zeros', input_shape=( 27, 50, 1 ) ) )\n",
    "    cnn_model.add( AveragePooling2D( pool_size=( 27, 5 ) ) )\n",
    "    cnn_model.add( Flatten() )\n",
    "    cnn_model.add( Dense( 5, kernel_initializer='zeros', bias_initializer='zeros', activation='tanh' ) )\n",
    "    cnn_model.add( Dense( 1, kernel_initializer='zeros', bias_initializer='zeros' ) )\n",
    "    cnn_model.compile( optimizer='adam', loss='mean_squared_error' )\n",
    "    fitting = cnn_model.fit( xtrain, ytrain, batch_size=batch, validation_data=( xtest, ytest ), \n",
    "        shuffle=False, epochs=10000, callbacks=[ stop ] )\n",
    "    fithistory = pd.DataFrame( fitting.history )\n",
    "    t.loc[ i, 'epochs' ] = fithistory.shape[ 0 ] - 10\n",
    "    t.loc[ i, 'mse_cnn' ] = fithistory.val_loss.min()\n",
    "    l.loc[ l.fold == i, 'pred_cnn' ] = cnn_model.predict( xtest )\n",
    "    l.loc[ l.fold == i, 'pred_naive' ] = naive\n",
    "    t.loc[ i, 'mse_naive' ] = np.mean( ( ytest - naive )**2 )\n",
    "    del [ xtrain, xtest, ytrain, ytest, naive, cnn_model, fitting, fithistory ]"
   ]
  },
  {
   "cell_type": "code",
   "execution_count": 53,
   "metadata": {},
   "outputs": [
    {
     "data": {
      "text/html": [
       "<div>\n",
       "<style scoped>\n",
       "    .dataframe tbody tr th:only-of-type {\n",
       "        vertical-align: middle;\n",
       "    }\n",
       "\n",
       "    .dataframe tbody tr th {\n",
       "        vertical-align: top;\n",
       "    }\n",
       "\n",
       "    .dataframe thead th {\n",
       "        text-align: right;\n",
       "    }\n",
       "</style>\n",
       "<table border=\"1\" class=\"dataframe\">\n",
       "  <thead>\n",
       "    <tr style=\"text-align: right;\">\n",
       "      <th></th>\n",
       "      <th>mse_cnn</th>\n",
       "      <th>epochs</th>\n",
       "      <th>mse_naive</th>\n",
       "    </tr>\n",
       "  </thead>\n",
       "  <tbody>\n",
       "    <tr>\n",
       "      <th>1</th>\n",
       "      <td>2.691235</td>\n",
       "      <td>1990</td>\n",
       "      <td>2.691137</td>\n",
       "    </tr>\n",
       "    <tr>\n",
       "      <th>2</th>\n",
       "      <td>2.662989</td>\n",
       "      <td>1911</td>\n",
       "      <td>2.663002</td>\n",
       "    </tr>\n",
       "    <tr>\n",
       "      <th>3</th>\n",
       "      <td>2.721143</td>\n",
       "      <td>2313</td>\n",
       "      <td>2.721015</td>\n",
       "    </tr>\n",
       "    <tr>\n",
       "      <th>4</th>\n",
       "      <td>2.664277</td>\n",
       "      <td>1808</td>\n",
       "      <td>2.664509</td>\n",
       "    </tr>\n",
       "  </tbody>\n",
       "</table>\n",
       "</div>"
      ],
      "text/plain": [
       "    mse_cnn  epochs  mse_naive\n",
       "1  2.691235    1990   2.691137\n",
       "2  2.662989    1911   2.663002\n",
       "3  2.721143    2313   2.721015\n",
       "4  2.664277    1808   2.664509"
      ]
     },
     "execution_count": 53,
     "metadata": {},
     "output_type": "execute_result"
    }
   ],
   "source": [
    "t"
   ]
  },
  {
   "cell_type": "code",
   "execution_count": 54,
   "metadata": {},
   "outputs": [
    {
     "name": "stdout",
     "output_type": "stream",
     "text": [
      "2.6849108934402466\n",
      "2.6849159002304077\n"
     ]
    }
   ],
   "source": [
    "print( t.mse_cnn.mean() )\n",
    "print( t.mse_naive.mean() )"
   ]
  },
  {
   "cell_type": "markdown",
   "metadata": {},
   "source": [
    "#### Conclusion"
   ]
  },
  {
   "cell_type": "markdown",
   "metadata": {},
   "source": [
    "It can be seen that the performance metric (Mean Squared Error) of the CNN is obviously not better than the one of the naive approach (sample mean). It does not make sense to further compare to a competitive benchmark. However, this is a very compact neural network, and other parameters or a configuration with more layers and filters may show different results."
   ]
  }
 ],
 "metadata": {
  "kernelspec": {
   "display_name": "Python 3",
   "language": "python",
   "name": "python3"
  },
  "language_info": {
   "codemirror_mode": {
    "name": "ipython",
    "version": 3
   },
   "file_extension": ".py",
   "mimetype": "text/x-python",
   "name": "python",
   "nbconvert_exporter": "python",
   "pygments_lexer": "ipython3",
   "version": "3.7.6"
  }
 },
 "nbformat": 4,
 "nbformat_minor": 4
}
